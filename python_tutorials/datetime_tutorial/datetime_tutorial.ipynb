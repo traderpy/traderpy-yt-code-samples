{
 "cells": [
  {
   "cell_type": "markdown",
   "id": "eea24665",
   "metadata": {},
   "source": [
    "# Python - Datetime Tutorial\n",
    "\n",
    "In this tutorial, we will go some basic functionalities of the datetime library. \n",
    "\n",
    "---\n",
    "\n",
    "Author: Tu Khac Nguyen\n",
    "\n",
    "Youtube: https://www.youtube.com/channel/UC9xYCyyR_G3LIuJ_LlTiEVQ/featured\n",
    "\n",
    "Github Repository: https://github.com/traderpy/traderpy-yt-code-samples\n",
    "\n",
    "\n",
    "## Disclaimer\n",
    "Trading the financial markets imposes a risk of financial loss. TraderPy is not responsible for any financial losses that viewers suffer. Content is educational only and does not serve as financial advice. Information or material is provided ‘as is’ without any warranty. \n",
    "\n",
    "Past trading results do not indicate future performance. Strategies that worked in the past may not reflect the same results in the future.\n",
    "\n",
    "---"
   ]
  },
  {
   "cell_type": "markdown",
   "id": "0338f142",
   "metadata": {},
   "source": [
    "## Using Datetime in Algo Trading\n",
    "- Scheduling Opening and Closing of Trades\n",
    "- Monitoring Order duration\n",
    "- Keep Track of Macroeconomic News Events\n",
    "- Risk Management"
   ]
  },
  {
   "cell_type": "code",
   "execution_count": 13,
   "id": "e0f2ff98",
   "metadata": {},
   "outputs": [],
   "source": [
    "# import libraries\n",
    "from datetime import datetime\n",
    "from IPython.display import display"
   ]
  },
  {
   "cell_type": "code",
   "execution_count": 6,
   "id": "53cbe059",
   "metadata": {},
   "outputs": [
    {
     "data": {
      "text/plain": [
       "datetime.datetime(2022, 4, 13, 21, 6, 10, 483920)"
      ]
     },
     "execution_count": 6,
     "metadata": {},
     "output_type": "execute_result"
    }
   ],
   "source": [
    "# how to get current time\n",
    "current_time = datetime.now()\n",
    "current_time"
   ]
  },
  {
   "cell_type": "code",
   "execution_count": 24,
   "id": "0716b49f",
   "metadata": {},
   "outputs": [
    {
     "name": "stdout",
     "output_type": "stream",
     "text": [
      "2022-04-01 12:15:10\n"
     ]
    }
   ],
   "source": [
    "# create a datetime object\n",
    "datetime_obj1 = datetime(year=2022, month=4, day=1, hour=12, minute=15, second=10)\n",
    "print(datetime_obj1)"
   ]
  },
  {
   "cell_type": "code",
   "execution_count": 29,
   "id": "63ba6192",
   "metadata": {},
   "outputs": [
    {
     "name": "stdout",
     "output_type": "stream",
     "text": [
      "datetime_string1:  2022-04-01 12:15:10\n",
      "datetime_string2:  22-04-01 12:15:10\n",
      "datetime_string3:  2022-04-01\n",
      "datetime_string4:  April 2022\n"
     ]
    }
   ],
   "source": [
    "# convert datetime object to string\n",
    "# documentation: https://docs.python.org/3/library/datetime.html\n",
    "\n",
    "datetime_string1 = datetime_obj1.strftime('%Y-%m-%d %H:%M:%S')  # upper case Y\n",
    "datetime_string2 = datetime_obj1.strftime('%y-%m-%d %H:%M:%S')  # lower case y\n",
    "datetime_string3 = datetime_obj1.strftime('%Y-%m-%d')\n",
    "datetime_string4 = datetime_obj1.strftime('%B %Y')\n",
    "\n",
    "print('datetime_string1: ', datetime_string1)\n",
    "print('datetime_string2: ', datetime_string2)\n",
    "print('datetime_string3: ', datetime_string3)\n",
    "print('datetime_string4: ', datetime_string4)"
   ]
  },
  {
   "cell_type": "code",
   "execution_count": 30,
   "id": "e4965359",
   "metadata": {},
   "outputs": [
    {
     "name": "stdout",
     "output_type": "stream",
     "text": [
      "2022-04-01 12:15:10\n"
     ]
    }
   ],
   "source": [
    "# convert string to datetime\n",
    "datetime_from_str_obj1 = datetime.strptime(datetime_string1, '%Y-%m-%d %H:%M:%S')\n",
    "print(datetime_from_str_obj1)"
   ]
  },
  {
   "cell_type": "code",
   "execution_count": 31,
   "id": "e511f2a6",
   "metadata": {},
   "outputs": [
    {
     "name": "stdout",
     "output_type": "stream",
     "text": [
      "Datetime before timedelta operation:  2022-04-01 12:15:10\n",
      "datetime_add1:  2022-04-02 12:15:10\n",
      "datetime_subtract1:  2022-04-01 12:10:00\n"
     ]
    }
   ],
   "source": [
    "# adding and subtracting time with timedelta\n",
    "print('Datetime before timedelta operation: ', datetime_obj1)\n",
    "datetime_add1 = datetime_obj1 + timedelta(days=1)\n",
    "datetime_subtract1 = datetime_obj1 - timedelta(minutes=5, seconds=10)\n",
    "\n",
    "print('datetime_add1: ', datetime_add1)\n",
    "print('datetime_subtract1: ', datetime_subtract1)"
   ]
  },
  {
   "cell_type": "code",
   "execution_count": 34,
   "id": "53f6e1bf",
   "metadata": {},
   "outputs": [
    {
     "name": "stdout",
     "output_type": "stream",
     "text": [
      "datetime_obj1:  2022-04-01 12:15:10\n",
      "datetime_obj2:  2022-03-20 00:00:00\n",
      "time_diff:  12 days, 12:15:10\n"
     ]
    }
   ],
   "source": [
    "# working with time differences\n",
    "datetime_obj2 = datetime(2022, 3, 20)\n",
    "\n",
    "print('datetime_obj1: ', datetime_obj1)\n",
    "print('datetime_obj2: ', datetime_obj2)\n",
    "\n",
    "time_diff = datetime_obj1 - datetime_obj2\n",
    "print('time_diff: ', time_diff)"
   ]
  },
  {
   "cell_type": "markdown",
   "id": "b32c2be9",
   "metadata": {},
   "source": []
  }
 ],
 "metadata": {
  "kernelspec": {
   "display_name": "Python 3 (ipykernel)",
   "language": "python",
   "name": "python3"
  },
  "language_info": {
   "codemirror_mode": {
    "name": "ipython",
    "version": 3
   },
   "file_extension": ".py",
   "mimetype": "text/x-python",
   "name": "python",
   "nbconvert_exporter": "python",
   "pygments_lexer": "ipython3",
   "version": "3.8.7"
  }
 },
 "nbformat": 4,
 "nbformat_minor": 5
}
